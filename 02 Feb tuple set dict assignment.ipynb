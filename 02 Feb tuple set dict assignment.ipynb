{
 "cells": [
  {
   "cell_type": "markdown",
   "id": "9d15084e-bce3-469e-84ac-065f1dc64739",
   "metadata": {},
   "source": [
    "# Q1. What are the characteristics of the tuples? Is tuple immutable?"
   ]
  },
  {
   "cell_type": "markdown",
   "id": "5397e091-09c0-4335-a38f-88bf631a24ea",
   "metadata": {},
   "source": [
    "In Python, a tuple is a collection of ordered, immutable, and heterogeneous elements. Here are some of the characteristics of tuples:\n",
    "\n",
    "* Ordered: The elements in a tuple have a specific order, which is maintained throughout the life of the tuple.\n",
    "\n",
    "* Immutable: Once a tuple is created, its elements cannot be changed. This means that you cannot add, delete, or modify elements in a tuple.\n",
    "\n",
    "* Heterogeneous: A tuple can contain elements of different types. For example, a tuple can contain a string, an integer, and a floating-point number.\n",
    "\n",
    "* Indexable: You can access the elements of a tuple by their index, just like you can with a list.\n",
    "\n",
    "* Iterable: You can iterate over the elements of a tuple using a for loop or a list comprehension.\n",
    "\n",
    "So, to answer your question, yes, a tuple is immutable. Once you create a tuple, you cannot change its elements. If you need to modify the elements, you will need to create a new tuple."
   ]
  },
  {
   "cell_type": "markdown",
   "id": "ccc0155e-2dda-49ac-a38c-526a7a1fe0e4",
   "metadata": {},
   "source": [
    "# Q2. What are the two tuple methods in python? Give an example of each method. Give a reason why tuples have only two in-built methods as compared to Lists."
   ]
  },
  {
   "cell_type": "markdown",
   "id": "ab580716-005b-46de-ad54-e9ce71ed0e99",
   "metadata": {},
   "source": [
    "In Python, there are two built-in methods for tuples:\n",
    "\n",
    "* count(): This method returns the number of times a specific element appears in the tuple.\n",
    "\n",
    "For example:"
   ]
  },
  {
   "cell_type": "code",
   "execution_count": 2,
   "id": "096fef00-1acf-4cf5-a341-34e92322cb2e",
   "metadata": {},
   "outputs": [
    {
     "name": "stdout",
     "output_type": "stream",
     "text": [
      "3\n"
     ]
    }
   ],
   "source": [
    "my_tuple = (1, 2, 2, 3, 4, 2)\n",
    "print(my_tuple.count(2))  \n"
   ]
  },
  {
   "cell_type": "markdown",
   "id": "a0921241-ddfb-41e3-97b2-a6436b3ba7c2",
   "metadata": {},
   "source": [
    "* index(): This method returns the index of the first occurrence of a specific element in the tuple."
   ]
  },
  {
   "cell_type": "code",
   "execution_count": 1,
   "id": "0281ed30-62bf-4243-b21c-77e4c6034886",
   "metadata": {},
   "outputs": [
    {
     "name": "stdout",
     "output_type": "stream",
     "text": [
      "2\n"
     ]
    }
   ],
   "source": [
    "my_tuple = (1, 2, 3, 4, 5)\n",
    "print(my_tuple.index(3)) \n"
   ]
  },
  {
   "cell_type": "markdown",
   "id": "ae3ce84c-8abd-4968-b0ce-d074b3a375ca",
   "metadata": {},
   "source": [
    "Tuples have only two built-in methods because they are immutable, and so they do not need methods to modify their elements. Lists, on the other hand, are mutable, which means that they can be modified by adding, deleting, or changing elements. This is why lists have many more built-in methods than tuples."
   ]
  },
  {
   "cell_type": "markdown",
   "id": "2fd153f5-43f2-49a7-a7a5-5011f83f9486",
   "metadata": {},
   "source": [
    "# Q3. Which collection datatypes in python do not allow duplicate items? Write a code using a set to remove duplicates from the given list.\n",
    "\n",
    "# List = [1, 1, 1, 2, 1, 3, 1, 4, 2, 1, 2, 2, 2, 3, 2, 4, 3, 1, 3, 2, 3, 3, 3, 4, 4, 1, 4, 2, 4, 3, 4, 4]"
   ]
  },
  {
   "cell_type": "markdown",
   "id": "8204e44c-0483-48fc-8e7b-b7f7a943665e",
   "metadata": {},
   "source": [
    "In Python, sets do not allow duplicate items. To remove duplicates from a list using a set, we can simply create a set from the list and then convert it back to a list. This will automatically remove any duplicates in the list. Here is the code to remove duplicates from the given list using a set:"
   ]
  },
  {
   "cell_type": "code",
   "execution_count": 8,
   "id": "7b99e204-4f8e-46c0-a00c-f232fe079c8e",
   "metadata": {},
   "outputs": [],
   "source": [
    "my_list = [1, 1, 1, 2, 1, 3, 1, 4, 2, 1, 2, 2, 2, 3, 2, 4, 3, 1, 3, 2, 3, 3, 3, 4, 4, 1, 4, 2, 4, 3, 4, 4]\n",
    "\n"
   ]
  },
  {
   "cell_type": "code",
   "execution_count": 9,
   "id": "5ae16bb7-02e0-4d03-9e21-838add879446",
   "metadata": {},
   "outputs": [],
   "source": [
    "my_set = set(my_list)"
   ]
  },
  {
   "cell_type": "code",
   "execution_count": null,
   "id": "ea48506f-16ee-4358-a151-3e4f8e2098ca",
   "metadata": {},
   "outputs": [],
   "source": [
    "new_list = list(my_set)\n",
    "print(new_list)"
   ]
  },
  {
   "cell_type": "code",
   "execution_count": 16,
   "id": "0a20c3db-8905-4f35-bf6f-92d9ecbe2a72",
   "metadata": {},
   "outputs": [
    {
     "data": {
      "text/plain": [
       "[1, 2, 3, 4]"
      ]
     },
     "execution_count": 16,
     "metadata": {},
     "output_type": "execute_result"
    }
   ],
   "source": [
    "[1,2,3,4]"
   ]
  },
  {
   "cell_type": "markdown",
   "id": "2970f0b8-df73-4089-8d8a-d034fad8a6b1",
   "metadata": {},
   "source": [
    "As you can see, the new list contains only unique elements from the original list."
   ]
  },
  {
   "cell_type": "markdown",
   "id": "a163d2c5-d4b0-4c50-bcaa-f4c433379c52",
   "metadata": {},
   "source": [
    "# Q4. Explain the difference between the union() and update() methods for a set. Give an example of each method."
   ]
  },
  {
   "cell_type": "markdown",
   "id": "2aba786c-b897-4613-8803-5d9070cef8c1",
   "metadata": {},
   "source": [
    "In Python, sets are a collection data type that doesn't allow duplicate elements. They also come with various built-in methods to perform set operations. Two of these methods are union() and update().\n",
    "\n",
    "union() method returns a new set with all the unique elements present in both sets. It doesn't modify the original set but returns a new set.\n",
    "\n",
    "For example, let's say we have two sets set1 = {1, 2, 3} and set2 = {3, 4, 5} We can perform a union operation on these two sets using the union() method as follows:"
   ]
  },
  {
   "cell_type": "code",
   "execution_count": 19,
   "id": "76152b0b-c1a7-4798-b0dd-8f65d5371be9",
   "metadata": {},
   "outputs": [],
   "source": [
    "set1 = {1, 2, 3}\n",
    "set2 = {3, 4, 5}"
   ]
  },
  {
   "cell_type": "code",
   "execution_count": 20,
   "id": "909d4c00-201b-4e9d-9c48-1241a68a9aa7",
   "metadata": {},
   "outputs": [
    {
     "name": "stdout",
     "output_type": "stream",
     "text": [
      "{1, 2, 3, 4, 5}\n"
     ]
    }
   ],
   "source": [
    "set3 = set1.union(set2)\n",
    "print(set3)\n"
   ]
  },
  {
   "cell_type": "markdown",
   "id": "c026284f-f362-4ba6-9f0e-938c2974b92c",
   "metadata": {},
   "source": [
    "This will output a new set that contains all the unique elements from both sets: {1, 2, 3, 4, 5}.\n",
    "\n",
    "On the other hand, the update() method modifies the original set by adding all the unique elements from another set. It takes a set as an argument and adds all the elements of that set to the original set.\n",
    "\n",
    "For example, let's say we have a set set1 = {1, 2, 3} and another set set2 = {3, 4, 5}. We can add all the elements of set2 to set1 using the update() method as follows:"
   ]
  },
  {
   "cell_type": "code",
   "execution_count": 21,
   "id": "226151ff-48a2-4d67-875a-432292b2f98b",
   "metadata": {},
   "outputs": [
    {
     "name": "stdout",
     "output_type": "stream",
     "text": [
      "{1, 2, 3, 4, 5}\n"
     ]
    }
   ],
   "source": [
    "set1.update(set2)\n",
    "print(set1)\n"
   ]
  },
  {
   "cell_type": "markdown",
   "id": "e187d911-3a78-4bcd-9c7d-6989df58c5c1",
   "metadata": {},
   "source": [
    "This will output a modified set1 set that contains all the unique elements from both sets: {1, 2, 3, 4, 5}.\n",
    "\n",
    "The reason why sets have different methods for these operations is because sets are implemented using hash tables which are optimized for these operations. Since sets don't allow duplicates, there is no need for a specific update operation that removes duplicates as in the case of lists."
   ]
  },
  {
   "cell_type": "markdown",
   "id": "6971d289-8f00-4ccd-a513-e16bb4a3d146",
   "metadata": {},
   "source": [
    "# Q5. What is a dictionary? Give an example. Also, state whether a dictionary is ordered or unordered."
   ]
  },
  {
   "cell_type": "markdown",
   "id": "39718dd1-e849-4404-87a4-a907635d0114",
   "metadata": {},
   "source": [
    "In Python, a dictionary is an unordered collection of items that are stored in key-value pairs. Each key-value pair is separated by a colon (:) and each pair is separated by a comma (,). The keys in a dictionary are unique and immutable whereas the values can be of any data type and can be repeated.\n",
    "\n",
    "Here's an example of a dictionary in Python:"
   ]
  },
  {
   "cell_type": "code",
   "execution_count": 23,
   "id": "f539fe99-6ba5-4817-8629-6d6fb311de3f",
   "metadata": {},
   "outputs": [],
   "source": [
    "employee = {\"name\": \"John\", \"age\": 30, \"salary\": 50000}\n"
   ]
  },
  {
   "cell_type": "markdown",
   "id": "7a9789db-03e9-4b88-9838-0cd2d7536e1c",
   "metadata": {},
   "source": [
    "In this example, the dictionary has three key-value pairs. The key \"name\" has the value \"John\", the key \"age\" has the value 30, and the key \"salary\" has the value 50000.\n",
    "\n",
    "Note that dictionaries are unordered, which means that the items in a dictionary are not stored in any particular order. The order of the items can change when the dictionary is modified. However, starting from Python 3.7, dictionaries are guaranteed to maintain the order of insertion of their elements.\n",
    "\n",
    "\n",
    "\n",
    "\n"
   ]
  },
  {
   "cell_type": "markdown",
   "id": "d9222813-ab6a-4542-8588-87002bb2305c",
   "metadata": {},
   "source": [
    "# Q6. Can we create a nested dictionary? If so, please give an example by creating a simple one-level nested dictionary."
   ]
  },
  {
   "cell_type": "markdown",
   "id": "1f601bf9-b79a-4e80-92c0-e4cd19145a8e",
   "metadata": {},
   "source": [
    "Yes, we can create a nested dictionary in Python. A nested dictionary is a dictionary inside a dictionary, where the value associated with a key can be another dictionary. Here's an example of a simple one-level nested dictionary:"
   ]
  },
  {
   "cell_type": "code",
   "execution_count": 24,
   "id": "d95b6235-3cc4-4d60-a298-36420e33e8c3",
   "metadata": {},
   "outputs": [
    {
     "name": "stdout",
     "output_type": "stream",
     "text": [
      "{'email': 'johndoe@example.com', 'phone': '555-1234'}\n",
      "johndoe@example.com\n"
     ]
    }
   ],
   "source": [
    "# Creating a one-level nested dictionary\n",
    "employee = {\n",
    "    \"id\": 123,\n",
    "    \"name\": \"John Doe\",\n",
    "    \"age\": 30,\n",
    "    \"contact\": {\n",
    "        \"email\": \"johndoe@example.com\",\n",
    "        \"phone\": \"555-1234\"\n",
    "    }\n",
    "}\n",
    "\n",
    "# Accessing the nested dictionary\n",
    "print(employee[\"contact\"])     # Output: {'email': 'johndoe@example.com', 'phone': '555-1234'}\n",
    "print(employee[\"contact\"][\"email\"])  # Output: johndoe@example.com\n"
   ]
  },
  {
   "cell_type": "markdown",
   "id": "305a72aa-45b9-4db5-9c8a-618b496d16f5",
   "metadata": {},
   "source": [
    "In the example above, we have created a nested dictionary called employee, where the contact key has a value that is another dictionary. We can access the nested dictionary by using the key of the outer dictionary followed by the key of the nested dictionary, separated by square brackets."
   ]
  },
  {
   "cell_type": "markdown",
   "id": "74bb3d8d-35b0-494b-8770-7125bf763593",
   "metadata": {},
   "source": [
    "# Q7. Using setdefault() method, create key named topics in the given dictionary and also add the value of the key as this list ['Python', 'Machine Learning’, 'Deep Learning']"
   ]
  },
  {
   "cell_type": "markdown",
   "id": "4bd6c489-f08e-4caa-bfc0-fb23c926c280",
   "metadata": {},
   "source": [
    "You can use the setdefault() method to add a new key-value pair to the dictionary if the key does not exist, otherwise, it returns the value of the key.\n",
    "\n",
    "Here's an example code to create a key named 'topics' and add the list ['Python', 'Machine Learning’, 'Deep Learning'] as its value using the setdefault() method:"
   ]
  },
  {
   "cell_type": "code",
   "execution_count": 26,
   "id": "04bf27a5-9f02-45c2-ac40-7ed21653cb71",
   "metadata": {},
   "outputs": [
    {
     "name": "stdout",
     "output_type": "stream",
     "text": [
      "{'language': 'Python', 'course': 'Data Science Masters', 'topics': ['Python', 'Machine Learning', 'Deep Learning']}\n"
     ]
    }
   ],
   "source": [
    "dict1 = {'language' : 'Python', 'course': 'Data Science Masters'}\n",
    "\n",
    "topics = ['Python', 'Machine Learning', 'Deep Learning']\n",
    "\n",
    "dict1.setdefault('topics', topics)\n",
    "\n",
    "print(dict1)\n"
   ]
  },
  {
   "cell_type": "markdown",
   "id": "89efdc13-b2ce-479b-b5e8-9252f0520ece",
   "metadata": {},
   "source": [
    "In the above code, the setdefault() method checks if the key 'topics' exists in the dictionary or not. Since it does not exist, it creates a new key 'topics' and sets its value to the list topics. If the key 'topics' already exists in the dictionary, it will return the value of the key without modifying the dictionary."
   ]
  },
  {
   "cell_type": "markdown",
   "id": "88eebb99-e5f7-45ff-b578-8700f2558634",
   "metadata": {},
   "source": [
    "# Q8. What are the three view objects in dictionaries? Use the three in-built methods in python to display these three view objects for the given dictionary. dict1 = {'Sport': 'Cricket' , 'Teams': ['India', 'Australia', 'England', 'South Africa', 'Sri Lanka', 'New Zealand']}"
   ]
  },
  {
   "cell_type": "markdown",
   "id": "cd37a323-d758-4f14-b3a4-698381826b92",
   "metadata": {},
   "source": [
    "In Python, there are three view objects for dictionaries. They are:\n",
    "\n",
    "* dict.keys() - It returns a view object containing the keys of the dictionary.\n",
    "* dict.values() - It returns a view object containing the values of the dictionary.\n",
    "* dict.items() - It returns a view object containing the key-value pairs of the dictionary.\n",
    "Here is an example code demonstrating the usage of these view objects on the given dictionary:"
   ]
  },
  {
   "cell_type": "code",
   "execution_count": 27,
   "id": "5c49b50c-9f00-4718-8da0-aa44e08e0439",
   "metadata": {},
   "outputs": [
    {
     "name": "stdout",
     "output_type": "stream",
     "text": [
      "Keys of the dictionary: dict_keys(['Sport', 'Teams'])\n",
      "Values of the dictionary: dict_values(['Cricket', ['India', 'Australia', 'England', 'South Africa', 'Sri Lanka', 'New Zealand']])\n",
      "Items of the dictionary: dict_items([('Sport', 'Cricket'), ('Teams', ['India', 'Australia', 'England', 'South Africa', 'Sri Lanka', 'New Zealand'])])\n"
     ]
    }
   ],
   "source": [
    "# Defining the dictionary\n",
    "dict1 = {'Sport': 'Cricket', 'Teams': ['India', 'Australia', 'England', 'South Africa', 'Sri Lanka', 'New Zealand']}\n",
    "\n",
    "# Printing the keys of the dictionary\n",
    "print(\"Keys of the dictionary:\", dict1.keys())\n",
    "\n",
    "# Printing the values of the dictionary\n",
    "print(\"Values of the dictionary:\", dict1.values())\n",
    "\n",
    "# Printing the key-value pairs of the dictionary\n",
    "print(\"Items of the dictionary:\", dict1.items())\n"
   ]
  }
 ],
 "metadata": {
  "kernelspec": {
   "display_name": "Python 3 (ipykernel)",
   "language": "python",
   "name": "python3"
  },
  "language_info": {
   "codemirror_mode": {
    "name": "ipython",
    "version": 3
   },
   "file_extension": ".py",
   "mimetype": "text/x-python",
   "name": "python",
   "nbconvert_exporter": "python",
   "pygments_lexer": "ipython3",
   "version": "3.10.8"
  }
 },
 "nbformat": 4,
 "nbformat_minor": 5
}
