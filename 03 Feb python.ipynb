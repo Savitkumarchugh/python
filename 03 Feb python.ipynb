{
 "cells": [
  {
   "cell_type": "markdown",
   "id": "2f64a6bd-9b8c-42d5-9bc6-8ded3f3247e7",
   "metadata": {},
   "source": [
    "# Q1. Which keyword is used to create a function? Create a function to return a list of odd numbers in the range of 1 to 25."
   ]
  },
  {
   "cell_type": "markdown",
   "id": "eb4db308-6aa7-4c84-ae94-6cbe39418aec",
   "metadata": {},
   "source": [
    "The def keyword is used to create a function in Python.\n",
    "\n",
    "Here's an example function that returns a list of odd numbers in the range of 1 to 25:"
   ]
  },
  {
   "cell_type": "code",
   "execution_count": 1,
   "id": "038a95da-afbf-494b-97c6-5c2a7641cd06",
   "metadata": {},
   "outputs": [],
   "source": [
    "def get_odd_numbers():\n",
    "    odd_numbers = []\n",
    "    for num in range(1, 26):\n",
    "        if num % 2 != 0:\n",
    "            odd_numbers.append(num)\n",
    "    return odd_numbers\n"
   ]
  },
  {
   "cell_type": "markdown",
   "id": "2090ef21-9621-4f68-8e49-d4e2111c9933",
   "metadata": {},
   "source": [
    "You can call this function by simply using the function name:"
   ]
  },
  {
   "cell_type": "code",
   "execution_count": 2,
   "id": "e2dc5d93-1276-4cc1-8899-f0c313089adb",
   "metadata": {},
   "outputs": [
    {
     "name": "stdout",
     "output_type": "stream",
     "text": [
      "[1, 3, 5, 7, 9, 11, 13, 15, 17, 19, 21, 23, 25]\n"
     ]
    }
   ],
   "source": [
    "result = get_odd_numbers()\n",
    "print(result)\n"
   ]
  },
  {
   "cell_type": "markdown",
   "id": "a11eb648-d56b-451b-8727-bcdd4a1ba365",
   "metadata": {},
   "source": [
    "# Q2. Why *args and **kwargs is used in some functions? Create a function each for *args and **kwargs to demonstrate their use."
   ]
  },
  {
   "cell_type": "markdown",
   "id": "726b8b70-a03e-4a80-9b4e-5e29fab8e9c8",
   "metadata": {},
   "source": [
    "The *args and **kwargs are special syntax in Python to pass a variable number of arguments to a function. The *args syntax is used to pass a variable number of non-keyworded arguments to a function, while **kwargs is used to pass a variable number of keyworded arguments to a function.\n",
    "\n",
    "Here is an example of a function that uses *args:"
   ]
  },
  {
   "cell_type": "code",
   "execution_count": 3,
   "id": "4540578b-d06a-4f32-bfd3-cc35fcae47a1",
   "metadata": {},
   "outputs": [],
   "source": [
    "def sum_all(*args):\n",
    "    result = 0\n",
    "    for num in args:\n",
    "        result += num\n",
    "    return result\n"
   ]
  },
  {
   "cell_type": "code",
   "execution_count": 5,
   "id": "714af046-0c2a-4cc9-8720-585e9d10d3e4",
   "metadata": {},
   "outputs": [
    {
     "data": {
      "text/plain": [
       "31"
      ]
     },
     "execution_count": 5,
     "metadata": {},
     "output_type": "execute_result"
    }
   ],
   "source": [
    "sum_all(5,5,6,7,8)"
   ]
  },
  {
   "cell_type": "markdown",
   "id": "6a3d75c5-7bf6-4d9c-9439-d6f041afff71",
   "metadata": {},
   "source": [
    "This function accepts any number of arguments and returns the sum of all the arguments.\n",
    "\n",
    "Here is an example of a function that uses **kwargs:"
   ]
  },
  {
   "cell_type": "code",
   "execution_count": 4,
   "id": "44539f0c-8ac8-4067-bbed-c0799f8f20e0",
   "metadata": {},
   "outputs": [],
   "source": [
    "def print_kwargs(**kwargs):\n",
    "    for key, value in kwargs.items():\n",
    "        print(f\"{key}: {value}\")\n"
   ]
  },
  {
   "cell_type": "code",
   "execution_count": 7,
   "id": "409f4f6b-84cc-47d3-a163-085d3887f172",
   "metadata": {},
   "outputs": [
    {
     "name": "stdout",
     "output_type": "stream",
     "text": [
      "Name: sumit\n",
      "Course: Data science Masters\n"
     ]
    }
   ],
   "source": [
    "print_kwargs(Name=\"sumit\", Course=\"Data science Masters\")"
   ]
  },
  {
   "cell_type": "markdown",
   "id": "bea159da-0c56-4763-bc40-1440204ad646",
   "metadata": {},
   "source": [
    "This function accepts any number of keyword arguments and prints them out in a key-value pair format.\n",
    "\n",
    "We use *args and **kwargs when we don't know the number of arguments that will be passed to a function in advance, or when we want to pass a variable number of arguments to a function."
   ]
  },
  {
   "cell_type": "markdown",
   "id": "386f630a-e1fa-4fbb-8a7d-c688d4ede961",
   "metadata": {},
   "source": [
    "# Q3. What is an iterator in python? Name the method used to initialise the iterator object and the method used for iteration. Use these methods to print the first five elements of the given list [2, 4, 6, 8, 10, 12, 14, 16,\n",
    "18, 20]."
   ]
  },
  {
   "cell_type": "markdown",
   "id": "f7a0b0c9-884d-48d3-a78b-a0f3f2ac4a37",
   "metadata": {},
   "source": [
    "An iterator in Python is an object that can be iterated (looped) upon. An object that will return data, one element at a time. It implements the iterator protocol, which consists of the methods iter() and next().\n",
    "\n",
    "The method used to initialize the iterator object is iter() and the method used for iteration is next(). To print the first five elements of the given list [2, 4, 6, 8, 10, 12, 14, 16, 18, 20], we can use a for loop or an iterator object as follows:\n",
    "\n",
    "Using a for loop:"
   ]
  },
  {
   "cell_type": "code",
   "execution_count": 8,
   "id": "37d13608-ef76-4618-843a-f3bbba2fe243",
   "metadata": {},
   "outputs": [
    {
     "name": "stdout",
     "output_type": "stream",
     "text": [
      "2\n",
      "4\n",
      "6\n",
      "8\n",
      "10\n"
     ]
    }
   ],
   "source": [
    "lst = [2, 4, 6, 8, 10, 12, 14, 16, 18, 20]\n",
    "\n",
    "for i in range(5):\n",
    "    print(lst[i])\n"
   ]
  },
  {
   "cell_type": "markdown",
   "id": "48e59b7d-cd81-49d0-ae9a-fc6b6f864f40",
   "metadata": {},
   "source": [
    "Using an iterator object:"
   ]
  },
  {
   "cell_type": "code",
   "execution_count": 9,
   "id": "f53753e0-9978-411b-88a9-6f77cd58a2d1",
   "metadata": {},
   "outputs": [
    {
     "name": "stdout",
     "output_type": "stream",
     "text": [
      "2\n",
      "4\n",
      "6\n",
      "8\n",
      "10\n"
     ]
    }
   ],
   "source": [
    "lst = [2, 4, 6, 8, 10, 12, 14, 16, 18, 20]\n",
    "\n",
    "iter_obj = iter(lst)\n",
    "\n",
    "for i in range(5):\n",
    "    print(next(iter_obj))\n"
   ]
  },
  {
   "cell_type": "markdown",
   "id": "c6711463-11b8-429d-bd56-ca890ddd1316",
   "metadata": {},
   "source": [
    "# Q4. What is a generator function in python? Why yield keyword is used? Give an example of a generator function."
   ]
  },
  {
   "cell_type": "markdown",
   "id": "551a5a6a-063e-4dd4-ac31-ec18fd6843ed",
   "metadata": {},
   "source": [
    "In Python, a generator function is a special type of function that returns an iterator object, which can be used to iterate over a series of values one at a time, instead of generating all of the values at once like a list.\n",
    "\n",
    "The yield keyword is used in a generator function to produce a sequence of values, one at a time, without having to store all of the values in memory at once.\n",
    "\n",
    "Here's an example of a simple generator function that produces a sequence of square numbers:"
   ]
  },
  {
   "cell_type": "code",
   "execution_count": 10,
   "id": "85ca0c5a-080e-484b-a25c-8fc86ae3b0f7",
   "metadata": {},
   "outputs": [],
   "source": [
    "def square_numbers(n):\n",
    "    for i in range(n):\n",
    "        yield i**2"
   ]
  },
  {
   "cell_type": "markdown",
   "id": "19d47cbb-013e-49c0-bb90-34067ba4a1a4",
   "metadata": {},
   "source": [
    "To use this generator function, we can create a generator object by calling the function with an argument:"
   ]
  },
  {
   "cell_type": "code",
   "execution_count": 15,
   "id": "9072e44d-b2f3-44ef-9f52-332b73da13d6",
   "metadata": {},
   "outputs": [],
   "source": [
    "gen = square_numbers(5)\n"
   ]
  },
  {
   "cell_type": "markdown",
   "id": "7c248645-ac16-473d-97a2-bbd4e75e125d",
   "metadata": {},
   "source": [
    "Then, we can iterate over the generator object to get the sequence of square numbers, one at a time:"
   ]
  },
  {
   "cell_type": "code",
   "execution_count": 16,
   "id": "e0d7bffd-c886-440c-acbd-b998558eac10",
   "metadata": {},
   "outputs": [
    {
     "name": "stdout",
     "output_type": "stream",
     "text": [
      "0\n",
      "1\n",
      "4\n",
      "9\n",
      "16\n"
     ]
    }
   ],
   "source": [
    "for num in gen:\n",
    "    print(num)\n"
   ]
  },
  {
   "cell_type": "markdown",
   "id": "d0a680aa-ca62-45bd-8878-d08e76c70398",
   "metadata": {},
   "source": [
    "# Q5. Create a generator function for prime numbers less than 1000. Use the next() method to print thefirst 20 prime numbers."
   ]
  },
  {
   "cell_type": "markdown",
   "id": "8c9a5986-76cb-4212-97ea-f7a3841c28b0",
   "metadata": {},
   "source": [
    "Here's a generator function for prime numbers less than 1000 and printing the first 20 prime numbers using the next() method:"
   ]
  },
  {
   "cell_type": "code",
   "execution_count": 17,
   "id": "43f522fc-3c31-4834-a6f9-da17ea30a20b",
   "metadata": {},
   "outputs": [
    {
     "name": "stdout",
     "output_type": "stream",
     "text": [
      "2\n",
      "3\n",
      "5\n",
      "7\n",
      "11\n",
      "13\n",
      "17\n",
      "19\n",
      "23\n",
      "29\n",
      "31\n",
      "37\n",
      "41\n",
      "43\n",
      "47\n",
      "53\n",
      "59\n",
      "61\n",
      "67\n",
      "71\n"
     ]
    }
   ],
   "source": [
    "def prime_gen():\n",
    "    num = 2\n",
    "    while num < 1000:\n",
    "        for i in range(2, num):\n",
    "            if num % i == 0:\n",
    "                break\n",
    "        else:\n",
    "            yield num\n",
    "        num += 1\n",
    "\n",
    "prime_nums = prime_gen()\n",
    "for i in range(20):\n",
    "    print(next(prime_nums))\n"
   ]
  },
  {
   "cell_type": "markdown",
   "id": "a2419085-2b84-4424-b7f4-1803bdf1c16c",
   "metadata": {},
   "source": [
    "The prime_gen() function generates prime numbers using a while loop and a nested for loop to check if the number is prime or not. The yield keyword is used to return a prime number at a time and pause the function's execution state until the next number is requested.\n",
    "\n",
    "The generator object prime_nums is created by calling the prime_gen() function. The first 20 prime numbers are then printed using a for loop and the next() method to request the next prime number from the generator object."
   ]
  }
 ],
 "metadata": {
  "kernelspec": {
   "display_name": "Python 3 (ipykernel)",
   "language": "python",
   "name": "python3"
  },
  "language_info": {
   "codemirror_mode": {
    "name": "ipython",
    "version": 3
   },
   "file_extension": ".py",
   "mimetype": "text/x-python",
   "name": "python",
   "nbconvert_exporter": "python",
   "pygments_lexer": "ipython3",
   "version": "3.10.8"
  }
 },
 "nbformat": 4,
 "nbformat_minor": 5
}
