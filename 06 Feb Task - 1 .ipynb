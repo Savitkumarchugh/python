{
 "cells": [
  {
   "cell_type": "markdown",
   "id": "0b267a7b-ab99-4cb1-bf18-009605d7c96d",
   "metadata": {},
   "source": [
    "# Q1. Create a function which will take a list as an argument and return the product of all the numbers after creating a flat list.\n",
    "\n",
    "Use the below-given list as an argument for your function.\n",
    "\n",
    "list1 = [1,2,3,4, [44,55,66, True], False, (34,56,78,89,34), {1,2,3,3,2,1}, {1:34, \"key2\": [55, 67, 78, 89], 4: (45,\n",
    "22, 61, 34)}, [56, 'data science'], 'Machine Learning']\n",
    "\n",
    "Note: you must extract numeric keys and values of the dictionary also."
   ]
  },
  {
   "cell_type": "code",
   "execution_count": 3,
   "id": "d2020225-877e-460b-820a-9adba017553c",
   "metadata": {},
   "outputs": [],
   "source": [
    "list1 = [1,2,3,4, [44,55,66, True], False, (34,56,78,89,34), {1,2,3,3,2,1}, {1:34, \"key2\": [55, 67, 78, 89], 4: (45, 22, 61, 34)}, [56, 'data science'], 'Machine Learning']"
   ]
  },
  {
   "cell_type": "code",
   "execution_count": 8,
   "id": "d889f015-eab7-4d17-a291-a3051d1ac340",
   "metadata": {},
   "outputs": [],
   "source": [
    "def product_of_numbers(lst):\n",
    "    flat_list = []\n",
    "    for item in lst:\n",
    "        if type(item) == list or type(item) == tuple or type(item) == set:\n",
    "            flat_list.extend([i for i in item if isinstance(i, (int, float))])\n",
    "        elif type(item) == dict:\n",
    "            for k, v in item.items():\n",
    "                if isinstance(k, (int, float)):\n",
    "                    flat_list.append(k)\n",
    "                if isinstance(v, (int, float)):\n",
    "                    flat_list.append(v)\n",
    "        elif isinstance(item, (int, float)) and item != False: # skip False value\n",
    "            flat_list.append(item)\n",
    "    product = 1\n",
    "    for num in flat_list:\n",
    "        product *= num\n",
    "    return product\n",
    "\n"
   ]
  },
  {
   "cell_type": "code",
   "execution_count": 9,
   "id": "9cc90b82-a44e-4bd6-a167-1bdb9c610057",
   "metadata": {},
   "outputs": [
    {
     "name": "stdout",
     "output_type": "stream",
     "text": [
      "78718933113238978560\n"
     ]
    }
   ],
   "source": [
    "list1 = [1,2,3,4, [44,55,66, True], False, (34,56,78,89,34), {1,2,3,3,2,1}, {1:34, \"key2\": [55, 67, 78, 89], 4: (45, 22, 61, 34)}, [56, 'data science'], 'Machine Learning']\n",
    "print(product_of_numbers(list1))\n"
   ]
  },
  {
   "cell_type": "markdown",
   "id": "6aa70e01-0f7d-4b6b-a81b-b0882c14b92a",
   "metadata": {},
   "source": [
    "# Q2. Write a python program for encrypting a message sent to you by your friend. The logic of encryption should be such that, for a the output should be z. For b, the output should be y. For c, the output should be x respectively. Also, the whitespace should be replaced with a dollar sign. Keep the punctuation marks unchanged.\n",
    "\n",
    "Input Sentence: I want to become a Data Scientist.\n",
    "\n",
    "Encrypt the above input sentence using the program you just created.\n",
    "\n",
    "Note: Convert the given input sentence into lowercase before encrypting. The final output should be lowercase."
   ]
  },
  {
   "cell_type": "code",
   "execution_count": 27,
   "id": "02e3c9c6-daa6-4683-8c86-20050bc38596",
   "metadata": {},
   "outputs": [
    {
     "name": "stdout",
     "output_type": "stream",
     "text": [
      "r$dzmg$gl$yvxlnv$z$wzgz$hxrvmgrhg.\n"
     ]
    }
   ],
   "source": [
    "def encrypt_message(msg):\n",
    "    encrypted = \"\"\n",
    "    for c in msg.lower():\n",
    "        if c.isalpha():\n",
    "            encrypted += chr(219 - ord(c))\n",
    "        elif c == \" \":\n",
    "            encrypted += \"$\"\n",
    "        else:\n",
    "            encrypted += c\n",
    "    return encrypted\n",
    "\n",
    "message = \"I want to become a Data Scientist.\"\n",
    "encrypted_message = encrypt_message(message)\n",
    "print(encrypted_message)\n",
    "\n"
   ]
  },
  {
   "cell_type": "code",
   "execution_count": 32,
   "id": "814137b7-fe96-40d0-987b-22550c0ddaf3",
   "metadata": {},
   "outputs": [
    {
     "name": "stdout",
     "output_type": "stream",
     "text": [
      "I Want To Become A Data Scientist\n"
     ]
    }
   ],
   "source": [
    "def encrypt_message(msg):\n",
    "    encrypted = \"\"\n",
    "    for c in msg.lower():\n",
    "        if c.isalpha():\n",
    "            encrypted += chr(219 - ord(c))\n",
    "        elif c == \"$\":\n",
    "            encrypted += \" \"\n",
    "        else:\n",
    "            encrypted += c\n",
    "    return encrypted.title()\n",
    "\n",
    "message = \"r$dzmg$gl$yvxlnv$z$wzgz$hxrvmgrhg\"\n",
    "encrypted_message = encrypt_message(message)\n",
    "print(encrypted_message)\n",
    "\n"
   ]
  }
 ],
 "metadata": {
  "kernelspec": {
   "display_name": "Python 3 (ipykernel)",
   "language": "python",
   "name": "python3"
  },
  "language_info": {
   "codemirror_mode": {
    "name": "ipython",
    "version": 3
   },
   "file_extension": ".py",
   "mimetype": "text/x-python",
   "name": "python",
   "nbconvert_exporter": "python",
   "pygments_lexer": "ipython3",
   "version": "3.10.8"
  }
 },
 "nbformat": 4,
 "nbformat_minor": 5
}
